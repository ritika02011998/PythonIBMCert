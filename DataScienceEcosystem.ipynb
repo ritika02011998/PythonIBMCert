{
 "cells": [
  {
   "cell_type": "markdown",
   "id": "bd4fa669-0dfe-4a2f-b10b-e322f53478c8",
   "metadata": {},
   "source": [
    "# Data Science Tools and Ecosystem"
   ]
  },
  {
   "cell_type": "markdown",
   "id": "f72c0c4f-5668-4f7b-92a3-d8efc5969391",
   "metadata": {},
   "source": [
    "In this notebook, Data Science Tools and Ecosystem are summarized."
   ]
  },
  {
   "cell_type": "markdown",
   "id": "18f7702d-fce5-4796-9f95-66bda3a05317",
   "metadata": {},
   "source": [
    "**Objectives:**\n",
    "\n",
    "* Python\n",
    "* R\n",
    "* Julia\n",
    "* JupyterLab\n",
    "* RStudio"
   ]
  },
  {
   "cell_type": "markdown",
   "id": "3386bbf9-3df5-475c-99bd-866e19556fc2",
   "metadata": {},
   "source": [
    "Some of the popular languages that Data Scientists use are:\n",
    "\n",
    "1. Python\n",
    "2. Julia\n",
    "3. R"
   ]
  },
  {
   "cell_type": "markdown",
   "id": "feba0f48-d0c5-47a4-aca2-7f4bf238cf45",
   "metadata": {},
   "source": [
    "Some of the commonly used libraries used by Data Scientists include:\n",
    "\n",
    "1. numpy\n",
    "2. pandas\n",
    "3. matplotlib"
   ]
  },
  {
   "cell_type": "markdown",
   "id": "dade8636-ea18-49af-984a-86b8c849e590",
   "metadata": {},
   "source": [
    "Data Science Tools|\n",
    "-------|\n",
    "Jupyter|\n",
    "rStudio|\n",
    "VSCode|"
   ]
  },
  {
   "cell_type": "markdown",
   "id": "230d3bee-c646-4b98-b593-b89202a4de23",
   "metadata": {},
   "source": [
    "### Below are a few examples of evaluating arithmetic expressions in Python"
   ]
  },
  {
   "cell_type": "code",
   "execution_count": 2,
   "id": "e8c88337-a958-42a1-85d9-9886bcb27732",
   "metadata": {},
   "outputs": [
    {
     "data": {
      "text/plain": [
       "17"
      ]
     },
     "execution_count": 2,
     "metadata": {},
     "output_type": "execute_result"
    }
   ],
   "source": [
    "#This a simple arithmetic expression to mutiply then add integers\n",
    "(3*4)+5"
   ]
  },
  {
   "cell_type": "code",
   "execution_count": 3,
   "id": "78b1f779-ba6d-40a0-9926-986f84366a75",
   "metadata": {},
   "outputs": [
    {
     "data": {
      "text/plain": [
       "3.3333333333333335"
      ]
     },
     "execution_count": 3,
     "metadata": {},
     "output_type": "execute_result"
    }
   ],
   "source": [
    "#This will convert 200 minutes to hours by diving by 60.\n",
    "\n",
    "200/60"
   ]
  },
  {
   "cell_type": "markdown",
   "id": "c4face0c-ff83-4d5b-88b9-b52ad8dd0353",
   "metadata": {},
   "source": [
    "## Author\n",
    "Ritika Goswami"
   ]
  },
  {
   "cell_type": "code",
   "execution_count": null,
   "id": "7c3baa08-690f-4088-b5e0-011bbd32141f",
   "metadata": {},
   "outputs": [],
   "source": []
  },
  {
   "cell_type": "code",
   "execution_count": null,
   "id": "92f78f54-0680-4381-bc0a-11620d8e072e",
   "metadata": {},
   "outputs": [],
   "source": []
  }
 ],
 "metadata": {
  "kernelspec": {
   "display_name": "Python 3 (ipykernel)",
   "language": "python",
   "name": "python3"
  },
  "language_info": {
   "codemirror_mode": {
    "name": "ipython",
    "version": 3
   },
   "file_extension": ".py",
   "mimetype": "text/x-python",
   "name": "python",
   "nbconvert_exporter": "python",
   "pygments_lexer": "ipython3",
   "version": "3.12.8"
  }
 },
 "nbformat": 4,
 "nbformat_minor": 5
}
